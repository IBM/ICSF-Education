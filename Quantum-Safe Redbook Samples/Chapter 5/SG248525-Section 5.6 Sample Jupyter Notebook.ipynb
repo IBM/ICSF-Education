{
 "cells": [
  {
   "cell_type": "markdown",
   "id": "45939e04",
   "metadata": {},
   "source": [
    "Sample Jupyter Notebook to cover \n",
    "\n",
    "### Identify Cryptographic Algorithms across systems and jobs\n",
    "\n",
    "in the section 5.6 of SG248525 - Transitioning to Quantum-Safe Cryptography on IBM Z\n"
   ]
  },
  {
   "cell_type": "markdown",
   "id": "fcdf1023",
   "metadata": {},
   "source": [
    "In order to execute the Jupyter Notebook against Your own IBM CAT database there are a series of steps to perform before the Jupyter Notebook and the IBM DB2 connection will work.\n",
    "***"
   ]
  },
  {
   "cell_type": "markdown",
   "id": "2614ab4b",
   "metadata": {},
   "source": [
    "These steps are very well described in the public IBM db2-jupyter github section.\n",
    "https://github.com/IBM/db2-jupyter/tree/master\n",
    "\n",
    "If however You just want to study the output of the sample execution then please proceed to [Query the Distribution of Keys in the Sysplex](#SampleStart)"
   ]
  },
  {
   "cell_type": "code",
   "execution_count": null,
   "id": "72d12a13",
   "metadata": {
    "scrolled": false
   },
   "outputs": [],
   "source": [
    "#First install the DB2 support\n",
    "!/home/lyksborg/anaconda3/bin/pip install ipython-sql\n",
    "!/home/lyksborg/anaconda3/bin/pip install ibm_db\n",
    "!/home/lyksborg/anaconda3/bin/pip install ibm_db_sa\n",
    "!/home/lyksborg/anaconda3/bin/pip install qgrid\n",
    "!/home/lyksborg/anaconda3/bin/pip install itables"
   ]
  },
  {
   "cell_type": "markdown",
   "id": "149779ea",
   "metadata": {},
   "source": [
    "### You need a Db2 connect license file to connect to a z/OS database."
   ]
  },
  {
   "cell_type": "markdown",
   "id": "166302ec",
   "metadata": {},
   "source": [
    "### Load the DB2 Extensions"
   ]
  },
  {
   "cell_type": "code",
   "execution_count": null,
   "id": "cfb11a7a",
   "metadata": {},
   "outputs": [],
   "source": [
    "import ibm_db\n",
    "import pandas as pd\n",
    "import numpy as np\n",
    "import seaborn as sns\n",
    "import matplotlib.pyplot as plt\n",
    "from datetime import timedelta \n",
    "%run db2.ipynb"
   ]
  },
  {
   "cell_type": "markdown",
   "id": "608cb839",
   "metadata": {},
   "source": [
    "### Connect to the IBM CAT Database and set the SQLID"
   ]
  },
  {
   "cell_type": "code",
   "execution_count": null,
   "id": "50d72aa4",
   "metadata": {},
   "outputs": [],
   "source": [
    "#A userID with access to the IBM CAT Database\n",
    "print(\"Database Name: \")\n",
    "dbname=input()\n",
    "print(\"Host: \")\n",
    "dbhost=input()\n",
    "print(\"Port Number: \")\n",
    "dbport=input()\n",
    "print(\"Username: \")\n",
    "dbuser=input()\n",
    "#The below connect statement connects to one of our internal IBM CAT Databases\n",
    "#%sql CONNECT TO DSNV133N USER $dbuser USING ? HOST winmvs3n.hursley.ibm.com PORT 43100\n",
    "%sql CONNECT TO $dbname USER $dbuser USING ? HOST $dbhost PORT $dbport\n",
    "print(\"SQL id: \")\n",
    "sqlid=input()\n",
    "schema = \"'\" + sqlid + \"'\"\n",
    "#Schema name....\n",
    "%sql SET CURRENT SQLID = $schema"
   ]
  },
  {
   "cell_type": "markdown",
   "id": "871fa6d7",
   "metadata": {},
   "source": [
    "### Select the sysplex to work with and the snapshot date."
   ]
  },
  {
   "cell_type": "code",
   "execution_count": null,
   "id": "02a5a08c",
   "metadata": {},
   "outputs": [],
   "source": [
    "#Select the sysplex - systems represented in the IBM CAT Database\n",
    "sysPlexSelect = \"SELECT DISTINCT CAT_ENV_SYSPLEX AS SYSPLEX, CAT_ENV_SYSNAME AS SYSTEM,\" \\\n",
    "\" DATE(CAT_ENV_SAMPLE_DATE) AS SNAPDATES FROM CAT_ENV\"\n",
    "sysPlexSystems = %sql $sysPlexSelect\n",
    "print(\"Available Sysplexes and Systems:\" )\n",
    "print(sysPlexSystems.drop_duplicates())\n",
    "print(\"Enter Sysplex ID:\")\n",
    "sysplex=input()\n",
    "print(\"Enter snapshot date\")\n",
    "snapDate=input()\n",
    "#Construct the UUID - Systemname join sub-select\n",
    "SysSubSelect = \"select distinct cat_env_uuid, cat_env_sysname from cat_env where cat_env_sysplex = '\"\\\n",
    "+ sysplex + \"' and date(cat_env_sample_date) = '\" + snapDate + \"'\""
   ]
  },
  {
   "cell_type": "markdown",
   "id": "3bee22e4",
   "metadata": {},
   "source": [
    "### Test the subselect..... and verify that the number uuids are as expected, eg. one per system."
   ]
  },
  {
   "cell_type": "code",
   "execution_count": null,
   "id": "7b46f8bd",
   "metadata": {},
   "outputs": [],
   "source": [
    "#Test the UUID where clause..... and verify that the number uuids are as expected, eg. one per system. \n",
    "uuidCheck = %sql select cat_env_sysname, cat_cda_uuid from cat_cda, ($SysSubSelect) where cat_cda_uuid = cat_env_uuid\n",
    "print(uuidCheck.drop_duplicates())"
   ]
  },
  {
   "cell_type": "markdown",
   "id": "413d2c5c",
   "metadata": {},
   "source": [
    "<a id=\"SampleStart\"></a>\n",
    "# Query the distribution of keys in the sysplex"
   ]
  },
  {
   "cell_type": "markdown",
   "id": "65bce3cc",
   "metadata": {},
   "source": [
    "#### DES Keys"
   ]
  },
  {
   "cell_type": "code",
   "execution_count": null,
   "id": "0e65dfd7",
   "metadata": {
    "scrolled": false
   },
   "outputs": [],
   "source": [
    "#Use DB2 queries to create the data frames needed.\n",
    "desKeys = %sql select cat_env_sysname, cat_des_label, cat_des_size, cat_des_kcv from cat_des, ($SysSubSelect) where cat_des_uuid = cat_env_uuid and cat_des_size <> ' '\n",
    "desSize = %sql select cat_env_sysname, cat_des_size, count(cat_des_size) as sizecount from cat_des, ($SysSubSelect) where cat_des_uuid = cat_env_uuid and cat_des_size <> ' ' group by cat_env_sysname, cat_des_size\n",
    "desTypeSize = %sql select cat_env_sysname, cat_des_type, cat_des_size, count(cat_des_type) as typecount from cat_des, ($SysSubSelect) where cat_des_uuid = cat_env_uuid and cat_des_size <> ' ' group by cat_env_sysname, cat_des_type, cat_des_size"
   ]
  },
  {
   "cell_type": "code",
   "execution_count": null,
   "id": "84fc4288",
   "metadata": {},
   "outputs": [],
   "source": [
    "desKeys[\"CAT_ENV_SYSNAME\"].value_counts()"
   ]
  },
  {
   "cell_type": "code",
   "execution_count": null,
   "id": "10be8981",
   "metadata": {},
   "outputs": [],
   "source": [
    "desKeysMV3A = desKeys[(desKeys['CAT_ENV_SYSNAME'].str.contains(\"MV3N\"))]\n",
    "desKeysMV3A[\"CAT_DES_SIZE\"].value_counts().plot(kind=\"pie\",figsize=(3,3),title=\"MV3N DES Keys distribution\",label=\"DES Keys\",autopct=\"%1.0f%%\")"
   ]
  },
  {
   "cell_type": "code",
   "execution_count": null,
   "id": "35af898f",
   "metadata": {
    "scrolled": false
   },
   "outputs": [],
   "source": [
    "pd.set_option('display.max_rows', 15)\n",
    "desSize.pivot_table(index=['CAT_ENV_SYSNAME','CAT_DES_SIZE','SIZECOUNT'])"
   ]
  },
  {
   "cell_type": "markdown",
   "id": "35edfd5d",
   "metadata": {},
   "source": [
    "_DES keys count by length_\n",
    "***"
   ]
  },
  {
   "cell_type": "code",
   "execution_count": null,
   "id": "b26fe591",
   "metadata": {
    "scrolled": true
   },
   "outputs": [],
   "source": [
    "pd.set_option('display.max_rows', 150)\n",
    "desTypeSingle = desTypeSize[(desTypeSize['CAT_DES_SIZE'].str.contains(\"SINGLE\"))]\n",
    "desTypeSingle.pivot_table(index=['CAT_ENV_SYSNAME','CAT_DES_SIZE', 'CAT_DES_TYPE', 'TYPECOUNT'])"
   ]
  },
  {
   "cell_type": "markdown",
   "id": "082976d4",
   "metadata": {},
   "source": [
    "_Single length DES keys type distribution_\n",
    "***"
   ]
  },
  {
   "cell_type": "code",
   "execution_count": null,
   "id": "9014c96d",
   "metadata": {
    "scrolled": false
   },
   "outputs": [],
   "source": [
    "pd.set_option('display.max_rows', 150)\n",
    "desTypeSingle = desTypeSize[(desTypeSize['CAT_DES_SIZE'].str.contains(\"DOUBLE\"))]\n",
    "desTypeSingle.pivot_table(index=['CAT_ENV_SYSNAME','CAT_DES_SIZE', 'CAT_DES_TYPE', 'TYPECOUNT'])"
   ]
  },
  {
   "cell_type": "markdown",
   "id": "30c30ca5",
   "metadata": {},
   "source": [
    "_Double length DES keys type distribution_\n",
    "***"
   ]
  },
  {
   "cell_type": "code",
   "execution_count": null,
   "id": "7e352654",
   "metadata": {
    "scrolled": false
   },
   "outputs": [],
   "source": [
    "pd.set_option('display.max_rows', 150)\n",
    "desTypeSingle = desTypeSize[(desTypeSize['CAT_DES_SIZE'].str.contains(\"TRIPLE\"))]\n",
    "desTypeSingle.pivot_table(index=['CAT_ENV_SYSNAME','CAT_DES_SIZE', 'CAT_DES_TYPE', 'TYPECOUNT'])"
   ]
  },
  {
   "cell_type": "markdown",
   "id": "bb33b5a6",
   "metadata": {},
   "source": [
    "_Triple length DES keys type distribution_\n",
    "***"
   ]
  },
  {
   "cell_type": "code",
   "execution_count": null,
   "id": "45ee23b5",
   "metadata": {
    "scrolled": false
   },
   "outputs": [],
   "source": [
    "#Use DB2 queries to create the data frames needed.\n",
    "aesKeys = %sql select cat_env_sysname, cat_sym_label, case when cat_sym_t4size = ' ' then 'unknown' else cat_sym_t4size end as cat_sym_t4size, cat_sym_kcv from cat_sym, ($SysSubSelect) where cat_sym_uuid = cat_env_uuid\n",
    "aesSize = %sql select cat_env_sysname, case when cat_sym_t4size = ' ' then 'unknown' else cat_sym_t4size end as cat_sym_t4size, count(cat_sym_t4size) as sizecount from cat_sym, ($SysSubSelect) where cat_sym_uuid = cat_env_uuid group by cat_env_sysname, cat_sym_t4size\n",
    "aesTypeSize = %sql select cat_env_sysname, cat_sym_type, case when cat_sym_t4size = ' ' then 'unknown' else cat_sym_t4size end as cat_sym_t4size, count(cat_sym_t4size) as typecount from cat_sym, ($SysSubSelect) where cat_sym_uuid = cat_env_uuid group by cat_env_sysname, cat_sym_type, cat_sym_t4size"
   ]
  },
  {
   "cell_type": "code",
   "execution_count": null,
   "id": "ee3fad9c",
   "metadata": {},
   "outputs": [],
   "source": [
    "aesKeys[\"CAT_ENV_SYSNAME\"].value_counts()"
   ]
  },
  {
   "cell_type": "code",
   "execution_count": null,
   "id": "e9960f72",
   "metadata": {
    "scrolled": false
   },
   "outputs": [],
   "source": [
    "pd.set_option('display.max_rows', 20)\n",
    "aesSize.pivot_table(index=['CAT_ENV_SYSNAME','CAT_SYM_T4SIZE','SIZECOUNT'])"
   ]
  },
  {
   "cell_type": "markdown",
   "id": "1c9a9f14",
   "metadata": {},
   "source": [
    "_AES Keys grouped by length_\n",
    "***"
   ]
  },
  {
   "cell_type": "code",
   "execution_count": null,
   "id": "2a139a87",
   "metadata": {},
   "outputs": [],
   "source": [
    "aesKeysMV3A = aesKeys[(aesKeys['CAT_ENV_SYSNAME'].str.contains(\"MV3N\") & (aesKeys[\"CAT_SYM_T4SIZE\"].str.contains(\"1|u\")))]\n",
    "aesKeysMV3A[\"CAT_SYM_T4SIZE\"].value_counts().plot(kind=\"pie\",figsize=(3,3),title=\"MV3N AES Keys, short or unknown length\",label = \"AES Keys\",autopct=\"%1.0f%%\")"
   ]
  },
  {
   "cell_type": "markdown",
   "id": "d3eeb2a6",
   "metadata": {},
   "source": [
    "_AES Keys with length not being 256 or being unknown_\n",
    "***"
   ]
  },
  {
   "cell_type": "code",
   "execution_count": null,
   "id": "f104668f",
   "metadata": {
    "scrolled": false
   },
   "outputs": [],
   "source": [
    "pd.set_option('display.max_rows', 150)\n",
    "aesTypeShort = aesTypeSize[(aesTypeSize['CAT_SYM_T4SIZE'].str.contains(\"u|1\"))]\n",
    "aesTypeShort.pivot_table(index=['CAT_ENV_SYSNAME','CAT_SYM_T4SIZE', 'CAT_SYM_TYPE', 'TYPECOUNT'])"
   ]
  },
  {
   "cell_type": "markdown",
   "id": "762f6091",
   "metadata": {},
   "source": [
    "_AES keys type distribution_\n",
    "***\n",
    "\n",
    "# SMF\n",
    "using SMF records for crypto usage\n",
    "\n",
    "## SMF general usage statistics\n",
    "\n",
    "\n",
    "Tables to look at: \n",
    "* SMF Type 82 Records: A list of ICSF SMF Records Type 82\n",
    "  * `CAT_SMF31` subtype 31: Usage Statistics\n",
    "  * Subtypes 40-41-42: Key Life Cycle Events\n",
    "    * `CAT_SMF40` subtype 40 - CCA symmetric key lifecycle event\n",
    "    * `CAT_SMF41` subtype 41 - CCA asymmetric key lifecycle event\n",
    "    * `CAT_SMF42` subtype 42 - PKCS#11 object lifecycle event\n",
    "  * Subtypes 44-45-46: Key Usage Events\n",
    "    * `CAT_SMF44` subtype 44 - CCA symmetric key usage event\n",
    "    * `CAT_SMF45` subtype 45 - CCA asymmetric key usage event\n",
    "    * `CAT_SMF46` subtype 46 - PKCS#11 key usage event.\n",
    "* Table of SMF type 70 subtype 2 - Cryptographic Hardware Activity\n",
    "  * `CAT_SMFR7A` - Cryptographic CCA Coprocessor Data Section\n",
    "  * `CAT_SMFR7B` - Cryptographic Accelerator Data Section\n",
    "  * `CAT_SMFR7C` - ICSF Services Data Section\n",
    "  * `CAT_SMFR7D` - Cryptographic PKCS11 Coprocessor Data Section\n",
    "  \n",
    "***\n",
    "\n",
    "\n",
    "## Pandas dataframe with the ICSF SMF 82-31 records\n",
    "Start by requesting all usage statistics from the corresponding table "
   ]
  },
  {
   "cell_type": "code",
   "execution_count": null,
   "id": "9c485cf5",
   "metadata": {},
   "outputs": [],
   "source": [
    "#query ICSF activity for the selected plex on the selected snapshot date\n",
    "smf82_31 = %sql select cat_smf31_sid, cat_smf31_uuid, cat_smf31_user_as, cat_smf31_user_tk, cat_smf31_jobid, cat_smf31_jobname, cat_smf31_reptype, cat_smf31_item, cat_smf31_count, cat_smf31_cardid, cat_smf31_stod, cat_smf31_etod from cat_smf31, ($SysSubSelect) where cat_env_uuid = cat_smf31_uuid\n",
    "# remove any excessive character from the CAT_SMF31_ITEM column\n",
    "smf82_31['CAT_SMF31_ITEM'] = smf82_31['CAT_SMF31_ITEM'].replace(to_replace ='[^A-Z0-9]*', value='', regex=True)\n",
    "smf82_31"
   ]
  },
  {
   "cell_type": "markdown",
   "id": "1dc39202",
   "metadata": {},
   "source": [
    "***\n",
    "The information selected for this higlevel identifications of jobs and users that are using ICSF cryptographic services are:\n",
    "\n",
    "- System name, CAT_SMF31_SID\n",
    "- Snapshot UUID, CAT_SMF31_UUID\n",
    "- User ID, CAT_SMF31_USER_AS\n",
    "- Jobid, CAT_SMF31_JOBID\n",
    "- Jobname, CAT_SMF31_JOBNAME\n",
    "- Report type, CAT_SMF31_REPTYPE\n",
    "- Item, CAT_SMF31_ITEM\n",
    "- Count, CAT_SMF31_COUNT\n",
    "- Card ID and type, CAT_SMF31_CARDID\n",
    "- Statistic period start, CAT_SMF31_STOD\n",
    "- Statistic period end, CAT_SMF31_ETOD\n",
    "\n",
    "The report type and the item holds the information about the actual ICSF usage.\n",
    "Report type ENGCARD is usage of the CEX in the system and the item in this case holds the CEX serial number and card ID holds id and type, e.g. 8C02. Count holds the number of service calls.\n",
    "\n",
    "Report type of ENGCPACF or ENGSOFT holds information of respectivly CPACF or software cryptographic operations. In those entries the item and card id are empty. Count holds the number of service calls.\n",
    "To identify jobs and users using crypto HW extract the ENGCARD report types and display these in e.g. a dataframe pivot table\n",
    "***"
   ]
  },
  {
   "cell_type": "code",
   "execution_count": null,
   "id": "f650b030",
   "metadata": {
    "scrolled": false
   },
   "outputs": [],
   "source": [
    "pd.set_option('display.max_rows', 10)\n",
    "engusage = smf82_31[(smf82_31['CAT_SMF31_REPTYPE'].str.contains(\"ENGCARD\")) & (smf82_31['CAT_SMF31_JOBNAME'].str.contains(\"ACSP\") == False)]\n",
    "engusage.pivot_table(index=['CAT_SMF31_SID','CAT_SMF31_ITEM','CAT_SMF31_CARDID','CAT_SMF31_JOBNAME'], values='CAT_SMF31_COUNT')"
   ]
  },
  {
   "cell_type": "markdown",
   "id": "b95b9657",
   "metadata": {},
   "source": [
    "_Job usage of cryptographic HW_\n",
    "\n",
    "***\n",
    "And using the above as a model for extracting and displaying algorithm and service usage let us see which users and jobs are using short AES keys, DES keys, ECC keys and RSA Keys.\n",
    "***"
   ]
  },
  {
   "cell_type": "code",
   "execution_count": null,
   "id": "ffd21e21",
   "metadata": {},
   "outputs": [],
   "source": [
    "pd.set_option('display.max_rows', 150)\n",
    "aesusage = smf82_31[(smf82_31['CAT_SMF31_ITEM'].str.contains(\"AES\")) & (smf82_31['CAT_SMF31_ITEM'] != 'AES256')]\n",
    "aesusage.pivot_table(index=['CAT_SMF31_SID','CAT_SMF31_ITEM','CAT_SMF31_USER_AS','CAT_SMF31_JOBNAME'], values='CAT_SMF31_REPTYPE')"
   ]
  },
  {
   "cell_type": "markdown",
   "id": "d9bfbbff",
   "metadata": {},
   "source": [
    "_Usage of AES keys, length 128 or 192_\n",
    "***"
   ]
  },
  {
   "cell_type": "code",
   "execution_count": null,
   "id": "82825073",
   "metadata": {},
   "outputs": [],
   "source": [
    "pd.set_option('display.max_rows', 15)\n",
    "desusage = smf82_31[(smf82_31['CAT_SMF31_ITEM'].str.contains(\"DES\"))]\n",
    "desusage.pivot_table(index=['CAT_SMF31_SID','CAT_SMF31_ITEM','CAT_SMF31_USER_AS','CAT_SMF31_JOBNAME'], values='CAT_SMF31_REPTYPE')"
   ]
  },
  {
   "cell_type": "markdown",
   "id": "7c367c56",
   "metadata": {},
   "source": [
    "_Usage of DES keys_\n",
    "***"
   ]
  },
  {
   "cell_type": "code",
   "execution_count": null,
   "id": "eda0c44a",
   "metadata": {
    "scrolled": false
   },
   "outputs": [],
   "source": [
    "pd.set_option('display.max_rows', 15)\n",
    "eccusage = smf82_31[(smf82_31['CAT_SMF31_ITEM'].str.contains(\"ECC\"))]\n",
    "eccusage.pivot_table(index=['CAT_SMF31_SID','CAT_SMF31_ITEM','CAT_SMF31_USER_AS','CAT_SMF31_JOBNAME'], values='CAT_SMF31_REPTYPE')"
   ]
  },
  {
   "cell_type": "markdown",
   "id": "96ecdd7f",
   "metadata": {},
   "source": [
    "_Usage of ECC keys_\n",
    "***"
   ]
  },
  {
   "cell_type": "code",
   "execution_count": null,
   "id": "0ed57d03",
   "metadata": {},
   "outputs": [],
   "source": [
    "pd.set_option('display.max_rows', 15)\n",
    "rsausage = smf82_31[(smf82_31['CAT_SMF31_ITEM'].str.contains(\"RSA\"))]\n",
    "rsausage.pivot_table(index=['CAT_SMF31_SID','CAT_SMF31_ITEM','CAT_SMF31_USER_AS','CAT_SMF31_JOBNAME'], values='CAT_SMF31_REPTYPE')"
   ]
  },
  {
   "cell_type": "markdown",
   "id": "7ccde443",
   "metadata": {},
   "source": [
    "_Usage of RSA keys_\n",
    "***"
   ]
  },
  {
   "cell_type": "code",
   "execution_count": null,
   "id": "a6e8edc2",
   "metadata": {},
   "outputs": [],
   "source": [
    "pd.set_option('display.max_rows', 10)\n",
    "csfalgs = smf82_31[(smf82_31['CAT_SMF31_ITEM'].str.contains(\"CSF\")) & (smf82_31['CAT_SMF31_JOBNAME'].str.contains(\"CATI\")) ]\n",
    "csfalgs.pivot_table(index=['CAT_SMF31_SID','CAT_SMF31_ITEM','CAT_SMF31_USER_AS','CAT_SMF31_JOBNAME'], values='CAT_SMF31_REPTYPE')"
   ]
  },
  {
   "cell_type": "markdown",
   "id": "462e4682",
   "metadata": {},
   "source": [
    "_ICSF services called by CATICRA on system MV3N. CATICRA is the IBM CAT data collector job._\n",
    "***\n",
    "\n",
    "### Query Key Usage in the IBM CAT Database\n",
    "\n",
    "In the chapter we have seen how the IBM CAT database can deliver the keys in the keystores across the sysplex.\n",
    "We have displayed pivot tables to group keys by algorithm, size and type and we have displayed the distribution of key algorithms across jobs and users in the sysplex.\n",
    "Some of the keys are considered to be quantum safe, e.g. AES 256 length keys.\n",
    "Other keys like shorter AES keys, DES keys, RSA keys, and ECC keys are considered to be compromised by a *cryptographically relevant quantum computer (CRQC).*\n",
    "\n",
    "Hence - we want to be able to identify usage on individual keys.\n",
    "\n",
    "The area of digital signing is expected to be one of the first areas where a CRQC may be used to break the qryptographic security.\n",
    "We will want to identyfy jobs and users that generates digital signatures and we will want to identify which keys are used to generate the signatures.\n",
    "\n",
    "Digital signature generation in ICSF uses the service CSFDSG and privat – public keys algorithms.\n",
    "So let us query usage of RSA, ECC and CRYSTALS-Dilithium usage in the SMF82-45 records.\n",
    "Algorithms are in the ICSF SMF 82 records expressed in more than one way.\n",
    "- In subtype 31 RSA is ‘RSA’ and in subtype 45 it is ‘07’\n",
    "- In subtype 31 ECC is ‘ECC’ and in subtype 45 it is ‘09’\n",
    "- In subtype 31 CRYSTALS-Dilithium is ‘LI2’ and in subtype 45 it is ‘0E’\n",
    "\n",
    "We will now build an smf31 subtype 45 dataframe and identify users that have performed a digital signature generate.\n"
   ]
  },
  {
   "cell_type": "code",
   "execution_count": null,
   "id": "fd067028",
   "metadata": {},
   "outputs": [],
   "source": [
    "#Select all asymmetric key usage events from the corresponding table\n",
    "smf82_45 = %sql SELECT CAT_ENV_SYSNAME, CAT_SMF45_STOD, CAT_SMF45_ETOD, HEX(CAT_SMF45_ALG) AS ALG, CAT_SMF45_SERVICE, CAT_SMF45_KDS_LABEL, CAT_SMF45_USECOUNT, CAT_SMF45_U_USERI FROM CAT_SMF45, ($SysSubSelect)  WHERE CAT_SMF45_UUID = CAT_ENV_UUID\n",
    "smf82_45"
   ]
  },
  {
   "cell_type": "markdown",
   "id": "d7080de1",
   "metadata": {},
   "source": [
    "_ICSF Service Calls for assymetric keys, SMF 82 subtype 45_\n",
    "***\n",
    "\n",
    "And below we will query only digital signature service calls"
   ]
  },
  {
   "cell_type": "code",
   "execution_count": null,
   "id": "f27df662",
   "metadata": {},
   "outputs": [],
   "source": [
    "dsuse = smf82_45[(smf82_45['CAT_SMF45_SERVICE'].str.contains(\"CSFDS\"))]\n",
    "dsuse.pivot_table(index=['CAT_ENV_SYSNAME','CAT_SMF45_SERVICE','CAT_SMF45_U_USERI'])"
   ]
  },
  {
   "cell_type": "markdown",
   "id": "ec8f8e2f",
   "metadata": {},
   "source": [
    "_ICSF CSFDSG and CSFDSV calls from SMF 82 subtype 45_\n",
    "***\n",
    "\n",
    "We will now look closer into the use of CSFDSG by user _Select a userID_"
   ]
  },
  {
   "cell_type": "code",
   "execution_count": null,
   "id": "1bd73774",
   "metadata": {
    "scrolled": true
   },
   "outputs": [],
   "source": [
    "smf82_45[(smf82_45['ALG'] == \"07\") & (smf82_45['CAT_SMF45_SERVICE'] == \"CSFDSG  \") & (smf82_45['CAT_SMF45_U_USERI'] == \"ACSPCLT1\")].sort_values(by=['CAT_ENV_SYSNAME'])"
   ]
  },
  {
   "cell_type": "markdown",
   "id": "9cc92d6f",
   "metadata": {},
   "source": [
    "_Selected userID use of CSFDSG with an RSA key, from SMF 82 subtype 45_\n",
    "***\n",
    "\n"
   ]
  },
  {
   "cell_type": "code",
   "execution_count": null,
   "id": "36e557f9",
   "metadata": {
    "scrolled": true
   },
   "outputs": [],
   "source": [
    "smf82_45[(smf82_45['ALG'] == \"09\") & (smf82_45['CAT_SMF45_SERVICE'] == \"CSFDSG  \") & (smf82_45['CAT_SMF45_U_USERI'] == \"ACSPCLT1\")].sort_values(by=['CAT_ENV_SYSNAME'])"
   ]
  },
  {
   "cell_type": "markdown",
   "id": "2c4e7ce3",
   "metadata": {},
   "source": [
    "_Selected userID use of CSFDSG with an ECC key, from SMF 82 subtype 45_\n",
    "***\n",
    "\n"
   ]
  },
  {
   "cell_type": "code",
   "execution_count": null,
   "id": "23e7225d",
   "metadata": {
    "scrolled": true
   },
   "outputs": [],
   "source": [
    "smf82_45[(smf82_45['ALG'] == \"0E\") & (smf82_45['CAT_SMF45_SERVICE'] == \"CSFDSG  \") & (smf82_45['CAT_SMF45_U_USERI'] == \"ACSPCLT1\")].sort_values(by=['CAT_ENV_SYSNAME'])"
   ]
  },
  {
   "cell_type": "markdown",
   "id": "1fb21599",
   "metadata": {},
   "source": [
    "_Selected userID use of CSFDSG with a CRYSTALS-Dilithium key, from SMF 82 subtype 45_\n",
    "***\n",
    "\n",
    "And finally let us identify the coresponding SMF 82 subtype 31 records to find the job name and ID\n",
    "Here we must use the recording interval of both the subtype 31 and subtype 45 records.\n",
    "Either the start time or the end time of the subtype 31 record must fall within the start time and the end time of the subtype 45 record."
   ]
  },
  {
   "cell_type": "code",
   "execution_count": null,
   "id": "b86ece8b",
   "metadata": {},
   "outputs": [],
   "source": [
    "rsasign = smf82_31[(smf82_31['CAT_SMF31_USER_TK'].str.contains(\"ACSPCLT1\")) & (smf82_31['CAT_SMF31_ITEM'].str.contains(\"RSA|DSG\"))]\n",
    "rsadisplay = rsasign[['CAT_SMF31_SID','CAT_SMF31_USER_AS','CAT_SMF31_USER_TK','CAT_SMF31_JOBID','CAT_SMF31_STOD','CAT_SMF31_ETOD']]\n",
    "rsadisplay.sort_values('CAT_SMF31_SID')"
   ]
  },
  {
   "cell_type": "markdown",
   "id": "bb6715be",
   "metadata": {},
   "source": [
    "_RSA use with either CSFDSG or CSFDSV by Selected userID_\n",
    "***\n"
   ]
  },
  {
   "cell_type": "code",
   "execution_count": null,
   "id": "4ef03394",
   "metadata": {
    "scrolled": true
   },
   "outputs": [],
   "source": [
    "eccsign = smf82_31[(smf82_31['CAT_SMF31_USER_TK'].str.contains(\"ACSPCLT1\")) & (smf82_31['CAT_SMF31_ITEM'].str.contains(\"ECC|DSG\"))]\n",
    "eccdisplay = rsasign[['CAT_SMF31_SID','CAT_SMF31_USER_AS','CAT_SMF31_USER_TK','CAT_SMF31_JOBID','CAT_SMF31_STOD','CAT_SMF31_ETOD']]\n",
    "eccdisplay.sort_values('CAT_SMF31_SID')"
   ]
  },
  {
   "cell_type": "markdown",
   "id": "33991c52",
   "metadata": {},
   "source": [
    "_ECC use with either CSFDSG or CSFDSV by Selected userID_\n",
    "***\n"
   ]
  },
  {
   "cell_type": "code",
   "execution_count": null,
   "id": "06e119cf",
   "metadata": {},
   "outputs": [],
   "source": [
    "qsasign = smf82_31[(smf82_31['CAT_SMF31_USER_TK'].str.contains(\"ACSPCLT1\")) & (smf82_31['CAT_SMF31_ITEM'].str.contains(\"LI2|DSG\"))]\n",
    "qsadisplay = rsasign[['CAT_SMF31_SID','CAT_SMF31_USER_AS','CAT_SMF31_USER_TK','CAT_SMF31_JOBID','CAT_SMF31_STOD','CAT_SMF31_ETOD']]\n",
    "qsadisplay.sort_values('CAT_SMF31_SID')"
   ]
  },
  {
   "cell_type": "markdown",
   "id": "c9862b6b",
   "metadata": {},
   "source": [
    "_Crystals-Dilithium use with either CSFDSG or CSFDSV by Selected userID_\n",
    "***\n"
   ]
  },
  {
   "cell_type": "markdown",
   "id": "12cc614f",
   "metadata": {},
   "source": [
    "### Close the DB2 connection"
   ]
  },
  {
   "cell_type": "code",
   "execution_count": null,
   "id": "0bfeb10a",
   "metadata": {},
   "outputs": [],
   "source": [
    "%sql CONNECT CLOSE"
   ]
  }
 ],
 "metadata": {
  "kernelspec": {
   "display_name": "Python 3 (ipykernel)",
   "language": "python",
   "name": "python3"
  },
  "language_info": {
   "codemirror_mode": {
    "name": "ipython",
    "version": 3
   },
   "file_extension": ".py",
   "mimetype": "text/x-python",
   "name": "python",
   "nbconvert_exporter": "python",
   "pygments_lexer": "ipython3",
   "version": "3.10.9"
  }
 },
 "nbformat": 4,
 "nbformat_minor": 5
}
